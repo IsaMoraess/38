{
 "cells": [
  {
   "cell_type": "code",
   "execution_count": null,
   "id": "d6672e70",
   "metadata": {},
   "outputs": [],
   "source": [
    "# Carregando um dos datasets que vem com Seaborn\n",
    "dados = sea.load_dataset(\"tips\")"
   ]
  },
  {
   "cell_type": "code",
   "execution_count": null,
   "id": "38e8f0bb",
   "metadata": {},
   "outputs": [],
   "source": [
    "dados.head()"
   ]
  },
  {
   "cell_type": "code",
   "execution_count": null,
   "id": "acf7105b",
   "metadata": {},
   "outputs": [],
   "source": [
    "# O metodo Implot() criar plot de 2 variáveis com graficos bivariados e univariados\n",
    "sea.jointplot(data = dados, x = \"total bill\", y = \"tip\", kind = 'reg')"
   ]
  },
  {
   "cell_type": "code",
   "execution_count": null,
   "id": "3368cc45",
   "metadata": {},
   "outputs": [],
   "source": [
    "# O metodo Implot() cria plot com dados e modelos de regrssão\n",
    "sea.implot(data = dados, x = \"total bill\", y = \"tip\", col = \"smoker\")"
   ]
  },
  {
   "cell_type": "code",
   "execution_count": null,
   "id": "c32851d2",
   "metadata": {},
   "outputs": [],
   "source": [
    "# Construindo um dataframe com Pandas\n",
    "df = pd.DataFrame()"
   ]
  },
  {
   "cell_type": "code",
   "execution_count": null,
   "id": "37c87bc4",
   "metadata": {},
   "outputs": [],
   "source": [
    "# Alimenando o dataframe com valores aleatorios\n",
    "df['idade'] = random.sample(range(20, 100),30)\n",
    "df['peso'] = random.sample(range(55, 150),30)"
   ]
  },
  {
   "cell_type": "code",
   "execution_count": null,
   "id": "cf714fe4",
   "metadata": {},
   "outputs": [],
   "source": [
    "df.shape"
   ]
  },
  {
   "cell_type": "code",
   "execution_count": null,
   "id": "3a7a2089",
   "metadata": {},
   "outputs": [],
   "source": []
  }
 ],
 "metadata": {
  "kernelspec": {
   "display_name": "Python 3 (ipykernel)",
   "language": "python",
   "name": "python3"
  },
  "language_info": {
   "codemirror_mode": {
    "name": "ipython",
    "version": 3
   },
   "file_extension": ".py",
   "mimetype": "text/x-python",
   "name": "python",
   "nbconvert_exporter": "python",
   "pygments_lexer": "ipython3",
   "version": "3.9.13"
  }
 },
 "nbformat": 4,
 "nbformat_minor": 5
}
